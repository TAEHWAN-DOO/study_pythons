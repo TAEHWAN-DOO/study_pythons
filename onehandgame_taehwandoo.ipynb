{
  "nbformat": 4,
  "nbformat_minor": 0,
  "metadata": {
    "colab": {
      "provenance": [],
      "include_colab_link": true
    },
    "kernelspec": {
      "name": "python3",
      "display_name": "Python 3"
    },
    "language_info": {
      "name": "python"
    }
  },
  "cells": [
    {
      "cell_type": "markdown",
      "metadata": {
        "id": "view-in-github",
        "colab_type": "text"
      },
      "source": [
        "<a href=\"https://colab.research.google.com/github/TAEHWAN-DOO/study_pythons/blob/main/onehandgame_taehwandoo.ipynb\" target=\"_parent\"><img src=\"https://colab.research.google.com/assets/colab-badge.svg\" alt=\"Open In Colab\"/></a>"
      ]
    },
    {
      "cell_type": "code",
      "execution_count": null,
      "metadata": {
        "id": "v98n0CGbrYeJ",
        "colab": {
          "base_uri": "https://localhost:8080/"
        },
        "outputId": "94dc713a-b660-439f-fe66-19c6700294f7"
      },
      "outputs": [
        {
          "output_type": "stream",
          "name": "stdout",
          "text": [
            "integer : 1, string :  , integer : 2\n",
            "string :  , integer : 1, integer : 2\n",
            "integer : 2, integer : 1, string :  \n"
          ]
        }
      ],
      "source": [
        "first_integer = 1\n",
        "second_string = \" \"\n",
        "third_integer = 2\n",
        "first_concats = f\"integer : {first_integer}, string : {second_string}, integer : {third_integer}\"\n",
        "print(first_concats)\n",
        "first_string = \" \"\n",
        "second_integer = 1\n",
        "second_concats = f\"string : {first_string}, integer : {second_integer}, integer : {third_integer}\"\n",
        "print(second_concats)\n",
        "third_concats = f\"integer : {third_integer}, integer : {second_integer}, string : {first_string}\"\n",
        "print(third_concats)"
      ]
    },
    {
      "cell_type": "code",
      "source": [
        "first_string = \"1\"\n",
        "second_string = \" \"\n",
        "third_string = \"2\"\n",
        "print(first_string, second_string, third_string)\n",
        "print(second_string, first_string, third_string)\n",
        "print(third_string, first_string, second_string)"
      ],
      "metadata": {
        "id": "fO8bDlRgu6AV",
        "colab": {
          "base_uri": "https://localhost:8080/"
        },
        "outputId": "61b1a63f-3d96-489b-9bb0-f8379804ec95"
      },
      "execution_count": null,
      "outputs": [
        {
          "output_type": "stream",
          "name": "stdout",
          "text": [
            "1   2\n",
            "  1 2\n",
            "2 1  \n"
          ]
        }
      ]
    },
    {
      "cell_type": "code",
      "source": [
        "print(\"push to github\")"
      ],
      "metadata": {
        "colab": {
          "base_uri": "https://localhost:8080/"
        },
        "id": "VdUiQZiHY7Cr",
        "outputId": "e3ff830a-bad0-4c46-883f-ceb6bb2dfda8"
      },
      "execution_count": 3,
      "outputs": [
        {
          "output_type": "stream",
          "name": "stdout",
          "text": [
            "push to github\n"
          ]
        }
      ]
    },
    {
      "cell_type": "code",
      "source": [],
      "metadata": {
        "id": "aGd9kh6LZBBZ"
      },
      "execution_count": null,
      "outputs": []
    }
  ]
}