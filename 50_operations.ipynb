{
  "nbformat": 4,
  "nbformat_minor": 0,
  "metadata": {
    "colab": {
      "provenance": [],
      "include_colab_link": true
    },
    "kernelspec": {
      "name": "python3",
      "display_name": "Python 3"
    },
    "language_info": {
      "name": "python"
    }
  },
  "cells": [
    {
      "cell_type": "markdown",
      "metadata": {
        "id": "view-in-github",
        "colab_type": "text"
      },
      "source": [
        "<a href=\"https://colab.research.google.com/github/TAEHWAN-DOO/study_pythons/blob/main/50_operations.ipynb\" target=\"_parent\"><img src=\"https://colab.research.google.com/assets/colab-badge.svg\" alt=\"Open In Colab\"/></a>"
      ]
    },
    {
      "cell_type": "code",
      "execution_count": 9,
      "metadata": {
        "id": "ydlk0whXYOSI",
        "colab": {
          "base_uri": "https://localhost:8080/"
        },
        "outputId": "b4d2298d-471b-46cb-b489-3cef7da2acda"
      },
      "outputs": [
        {
          "output_type": "stream",
          "name": "stdout",
          "text": [
            "a = 1\n",
            "b = 3\n",
            "a / b = 0.3333333333333333\n"
          ]
        }
      ],
      "source": [
        "a = int(input('a = '))\n",
        "b = int(input('b = '))\n",
        "print(f'a / b = {a / b}')"
      ]
    },
    {
      "cell_type": "code",
      "source": [
        "a = int(input('a = '))\n",
        "b = int(input('b = '))\n",
        "print(f'a / b = {a / b}')"
      ],
      "metadata": {
        "colab": {
          "base_uri": "https://localhost:8080/"
        },
        "id": "VmPlA19C3bqN",
        "outputId": "fa7a4d77-1c6f-4d3a-9551-6319946e93fc"
      },
      "execution_count": 10,
      "outputs": [
        {
          "output_type": "stream",
          "name": "stdout",
          "text": [
            "a = 4\n",
            "b = 5\n",
            "a / b = 0.8\n"
          ]
        }
      ]
    }
  ]
}