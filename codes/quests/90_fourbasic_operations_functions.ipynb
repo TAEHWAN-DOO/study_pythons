{
  "nbformat": 4,
  "nbformat_minor": 0,
  "metadata": {
    "colab": {
      "provenance": [],
      "include_colab_link": true
    },
    "kernelspec": {
      "name": "python3",
      "display_name": "Python 3"
    },
    "language_info": {
      "name": "python"
    }
  },
  "cells": [
    {
      "cell_type": "markdown",
      "metadata": {
        "id": "view-in-github",
        "colab_type": "text"
      },
      "source": [
        "<a href=\"https://colab.research.google.com/github/TAEHWAN-DOO/study_pythons/blob/main/codes/quests/90_fourbasic_operations_functions.ipynb\" target=\"_parent\"><img src=\"https://colab.research.google.com/assets/colab-badge.svg\" alt=\"Open In Colab\"/></a>"
      ]
    },
    {
      "cell_type": "markdown",
      "source": [
        "###사칙연산"
      ],
      "metadata": {
        "id": "lbaBx5kyX9rl"
      }
    },
    {
      "cell_type": "code",
      "source": [
        "def plus() :\n",
        " input_first_value = 4\n",
        " input_second_value = 5\n",
        " result_plus = input_first_value + input_second_value\n",
        " print(f'{result_plus} / {type(result_plus)}= {input_first_value} + {input_second_value}')"
      ],
      "metadata": {
        "id": "X--jvkS9eBbS"
      },
      "execution_count": 6,
      "outputs": []
    },
    {
      "cell_type": "code",
      "source": [
        "def minus() :\n",
        " input_first_value = 4\n",
        " input_second_value = 5\n",
        " result_minus = input_first_value - input_second_value\n",
        " print(f'{result_minus} / {type(result_minus)}= {input_first_value} - {input_second_value}')"
      ],
      "metadata": {
        "id": "_dEKdAUQcyr7"
      },
      "execution_count": 7,
      "outputs": []
    },
    {
      "cell_type": "code",
      "source": [
        "def multiple() :\n",
        " input_first_value = 4\n",
        " input_second_value = 5\n",
        " result_multiple = input_first_value * input_second_value\n",
        " print(f'{result_multiple} / {type(result_multiple)} = {input_first_value} * {input_second_value}')"
      ],
      "metadata": {
        "id": "g6B3KmeVaU6v"
      },
      "execution_count": 8,
      "outputs": []
    },
    {
      "cell_type": "code",
      "source": [
        "def division() :\n",
        " input_first_value = 4\n",
        " input_second_value = 5\n",
        " result_division = input_first_value / input_second_value\n",
        " print(f'{result_division} / {type(result_division)} = {input_first_value} / {input_second_value}')"
      ],
      "metadata": {
        "id": "jN-covRSbSSP"
      },
      "execution_count": 9,
      "outputs": []
    },
    {
      "cell_type": "code",
      "source": [
        "def surplus() :\n",
        " input_first_value = 4\n",
        " input_second_value = 5\n",
        " result_surplus = input_first_value % input_second_value\n",
        " print(f'{result_surplus} / {type(result_surplus)} = {input_first_value} % {input_second_value}')"
      ],
      "metadata": {
        "id": "yKgdaS_ecDbo"
      },
      "execution_count": 10,
      "outputs": []
    },
    {
      "cell_type": "code",
      "source": [
        "plus()\n",
        "minus()\n",
        "multiple()\n",
        "division()\n",
        "surplus()"
      ],
      "metadata": {
        "colab": {
          "base_uri": "https://localhost:8080/"
        },
        "id": "5ngzGuU4-NGP",
        "outputId": "3976eb7f-8fbb-4612-9b72-eddf677e5549"
      },
      "execution_count": 11,
      "outputs": [
        {
          "output_type": "stream",
          "name": "stdout",
          "text": [
            "9 / <class 'int'>= 4 + 5\n",
            "-1 / <class 'int'>= 4 - 5\n",
            "20 / <class 'int'> = 4 * 5\n",
            "0.8 / <class 'float'> = 4 / 5\n",
            "4 / <class 'int'> = 4 % 5\n"
          ]
        }
      ]
    },
    {
      "cell_type": "code",
      "source": [],
      "metadata": {
        "id": "VQCgkirE-Xl8"
      },
      "execution_count": 11,
      "outputs": []
    }
  ]
}