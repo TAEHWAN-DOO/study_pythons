{
  "nbformat": 4,
  "nbformat_minor": 0,
  "metadata": {
    "colab": {
      "provenance": [],
      "include_colab_link": true
    },
    "kernelspec": {
      "name": "python3",
      "display_name": "Python 3"
    },
    "language_info": {
      "name": "python"
    }
  },
  "cells": [
    {
      "cell_type": "markdown",
      "metadata": {
        "id": "view-in-github",
        "colab_type": "text"
      },
      "source": [
        "<a href=\"https://colab.research.google.com/github/TAEHWAN-DOO/study_pythons/blob/main/codes/quests/70_fourbasic_operations_while.ipynb\" target=\"_parent\"><img src=\"https://colab.research.google.com/assets/colab-badge.svg\" alt=\"Open In Colab\"/></a>"
      ]
    },
    {
      "cell_type": "code",
      "execution_count": 1,
      "metadata": {
        "id": "ydlk0whXYOSI",
        "colab": {
          "base_uri": "https://localhost:8080/"
        },
        "outputId": "dc6a7b24-0d30-4512-b389-31905f684b85"
      },
      "outputs": [
        {
          "output_type": "stream",
          "name": "stdout",
          "text": [
            "program start!\n",
            "input first : 1\n",
            "input second : 2\n",
            "input_first + input_second = 3, <class 'int'>\n",
            "input_first - input_second = -1, <class 'int'>\n",
            "input_first * input_second = 2, <class 'int'>\n",
            "input_first / input_second = 0.5, <class 'float'>\n",
            "input_first % input_second = 1, <class 'int'>\n",
            "input first : q\n",
            "program end!\n"
          ]
        }
      ],
      "source": [
        "print(f'program start!')\n",
        "\n",
        "while True :\n",
        "  input_first = input('input first : ')\n",
        "  if input_first == 'q' :\n",
        "    break\n",
        "\n",
        "  input_first = int(input_first)\n",
        "  input_second = int(input('input second : '))\n",
        "\n",
        "  print(f'input_first + input_second = {input_first + input_second}, {type(input_first + input_second)}')\n",
        "  print(f'input_first - input_second = {input_first - input_second}, {type(input_first - input_second)}')\n",
        "  print(f'input_first * input_second = {input_first * input_second}, {type(input_first * input_second)}')\n",
        "  print(f'input_first / input_second = {input_first / input_second}, {type(input_first / input_second)}')\n",
        "  print(f'input_first % input_second = {input_first % input_second}, {type(input_first % input_second)}')\n",
        "\n",
        "print(f'program end!')"
      ]
    },
    {
      "cell_type": "code",
      "source": [],
      "metadata": {
        "id": "QJ4YZR6aKtx6"
      },
      "execution_count": null,
      "outputs": []
    }
  ]
}