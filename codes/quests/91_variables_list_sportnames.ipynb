{
  "nbformat": 4,
  "nbformat_minor": 0,
  "metadata": {
    "colab": {
      "provenance": [],
      "authorship_tag": "ABX9TyMbXJ3+3GA64H9ZDsKhxuye",
      "include_colab_link": true
    },
    "kernelspec": {
      "name": "python3",
      "display_name": "Python 3"
    },
    "language_info": {
      "name": "python"
    }
  },
  "cells": [
    {
      "cell_type": "markdown",
      "metadata": {
        "id": "view-in-github",
        "colab_type": "text"
      },
      "source": [
        "<a href=\"https://colab.research.google.com/github/TAEHWAN-DOO/study_pythons/blob/main/codes/quests/91_variables_list_sportnames.ipynb\" target=\"_parent\"><img src=\"https://colab.research.google.com/assets/colab-badge.svg\" alt=\"Open In Colab\"/></a>"
      ]
    },
    {
      "cell_type": "code",
      "execution_count": 10,
      "metadata": {
        "colab": {
          "base_uri": "https://localhost:8080/"
        },
        "id": "k99qOHGKmGL6",
        "outputId": "5c763d47-3a59-4b61-d5a0-bb115c086723"
      },
      "outputs": [
        {
          "name": "stdout",
          "output_type": "stream",
          "text": [
            "당신이 좋아하는 스포츠는 무엇입니까?(추가 가능)축구\n",
            "당신이 좋아하는 스포츠는 무엇입니까?(추가 가능)농구\n",
            "당신이 좋아하는 스포츠는 무엇입니까?(추가 가능)exit\n"
          ]
        },
        {
          "output_type": "execute_result",
          "data": {
            "text/plain": [
              "['축구', '농구']"
            ]
          },
          "metadata": {},
          "execution_count": 10
        }
      ],
      "source": [
        "sports = []\n",
        "\n",
        "while True :\n",
        "  sport = input('당신이 좋아하는 스포츠는 무엇입니까?(추가 가능)')\n",
        "  if sport == 'exit' :\n",
        "    break\n",
        "  sports.append(sport)\n",
        "\n",
        "sports\n"
      ]
    }
  ]
}