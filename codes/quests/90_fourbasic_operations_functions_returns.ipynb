{
  "nbformat": 4,
  "nbformat_minor": 0,
  "metadata": {
    "colab": {
      "provenance": [],
      "authorship_tag": "ABX9TyNDNDbhXRIktlKfr9EptNq7",
      "include_colab_link": true
    },
    "kernelspec": {
      "name": "python3",
      "display_name": "Python 3"
    },
    "language_info": {
      "name": "python"
    }
  },
  "cells": [
    {
      "cell_type": "markdown",
      "metadata": {
        "id": "view-in-github",
        "colab_type": "text"
      },
      "source": [
        "<a href=\"https://colab.research.google.com/github/TAEHWAN-DOO/study_pythons/blob/main/codes/quests/90_fourbasic_operations_functions_returns.ipynb\" target=\"_parent\"><img src=\"https://colab.research.google.com/assets/colab-badge.svg\" alt=\"Open In Colab\"/></a>"
      ]
    },
    {
      "cell_type": "code",
      "execution_count": 30,
      "metadata": {
        "id": "p7l7pPKt9W5-"
      },
      "outputs": [],
      "source": [
        "def add(input_first, input_second):\n",
        "  result_add = input_first + input_second\n",
        "  print(f'{result_add} / {type(result_add)}= {input_first} + {input_second}')\n",
        "  return result_add"
      ]
    },
    {
      "cell_type": "code",
      "source": [
        "add(1,3)"
      ],
      "metadata": {
        "colab": {
          "base_uri": "https://localhost:8080/"
        },
        "id": "N-LOR3fFG8Y5",
        "outputId": "63142127-cecc-4aa8-e75d-22e661a9cd2e"
      },
      "execution_count": 31,
      "outputs": [
        {
          "output_type": "stream",
          "name": "stdout",
          "text": [
            "4 / <class 'int'>= 1 + 3\n"
          ]
        },
        {
          "output_type": "execute_result",
          "data": {
            "text/plain": [
              "4"
            ]
          },
          "metadata": {},
          "execution_count": 31
        }
      ]
    },
    {
      "cell_type": "code",
      "source": [
        "def minus(input_first, input_second):\n",
        "  result_minus = input_first - input_second\n",
        "  print(f'{result_minus} / {type(result_minus)}= {input_first} - {input_second}')\n",
        "  return result_minus"
      ],
      "metadata": {
        "id": "HZ7jZRaC9m2M"
      },
      "execution_count": 32,
      "outputs": []
    },
    {
      "cell_type": "code",
      "source": [
        "minus(7, 9)"
      ],
      "metadata": {
        "colab": {
          "base_uri": "https://localhost:8080/"
        },
        "id": "WgVkl_1RG_xR",
        "outputId": "3ddb0a6d-b79c-466c-d210-182259cbf155"
      },
      "execution_count": 33,
      "outputs": [
        {
          "output_type": "stream",
          "name": "stdout",
          "text": [
            "-2 / <class 'int'>= 7 - 9\n"
          ]
        },
        {
          "output_type": "execute_result",
          "data": {
            "text/plain": [
              "-2"
            ]
          },
          "metadata": {},
          "execution_count": 33
        }
      ]
    },
    {
      "cell_type": "code",
      "source": [
        "def multiply(input_first, input_second):\n",
        "  result_multiply = input_first * input_second\n",
        "  print(f'{result_multiply} / {type(result_multiply)}= {input_first} * {input_second}')\n",
        "  return result_multiply"
      ],
      "metadata": {
        "id": "7igtQM4hG9VA"
      },
      "execution_count": 34,
      "outputs": []
    },
    {
      "cell_type": "code",
      "source": [
        "multiply(2, 8)"
      ],
      "metadata": {
        "colab": {
          "base_uri": "https://localhost:8080/"
        },
        "id": "JTGOeJRIHAe3",
        "outputId": "86ae65a1-2c7b-4c58-ffb9-247e36a02ad4"
      },
      "execution_count": 35,
      "outputs": [
        {
          "output_type": "stream",
          "name": "stdout",
          "text": [
            "16 / <class 'int'>= 2 * 8\n"
          ]
        },
        {
          "output_type": "execute_result",
          "data": {
            "text/plain": [
              "16"
            ]
          },
          "metadata": {},
          "execution_count": 35
        }
      ]
    },
    {
      "cell_type": "code",
      "source": [
        "def division(input_first, input_second):\n",
        "  result_division = input_first / input_second\n",
        "  print(f'{result_division} / {type(result_division)}= {input_first} / {input_second}')\n",
        "  return result_division"
      ],
      "metadata": {
        "id": "iU46-ObTG_cF"
      },
      "execution_count": 36,
      "outputs": []
    },
    {
      "cell_type": "code",
      "source": [
        "division(5, 1)"
      ],
      "metadata": {
        "colab": {
          "base_uri": "https://localhost:8080/"
        },
        "id": "uD5rqKfvHCsv",
        "outputId": "270a21d1-391f-41bd-a853-2c43812ced17"
      },
      "execution_count": 37,
      "outputs": [
        {
          "output_type": "stream",
          "name": "stdout",
          "text": [
            "5.0 / <class 'float'>= 5 / 1\n"
          ]
        },
        {
          "output_type": "execute_result",
          "data": {
            "text/plain": [
              "5.0"
            ]
          },
          "metadata": {},
          "execution_count": 37
        }
      ]
    }
  ]
}