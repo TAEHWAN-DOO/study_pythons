{
  "nbformat": 4,
  "nbformat_minor": 0,
  "metadata": {
    "colab": {
      "provenance": [],
      "authorship_tag": "ABX9TyPWlXodP16bhZwjaphsbwPn",
      "include_colab_link": true
    },
    "kernelspec": {
      "name": "python3",
      "display_name": "Python 3"
    },
    "language_info": {
      "name": "python"
    }
  },
  "cells": [
    {
      "cell_type": "markdown",
      "metadata": {
        "id": "view-in-github",
        "colab_type": "text"
      },
      "source": [
        "<a href=\"https://colab.research.google.com/github/TAEHWAN-DOO/study_pythons/blob/main/codes/quests/80_solve_problems_fors.ipynb\" target=\"_parent\"><img src=\"https://colab.research.google.com/assets/colab-badge.svg\" alt=\"Open In Colab\"/></a>"
      ]
    },
    {
      "cell_type": "code",
      "execution_count": 39,
      "metadata": {
        "id": "MxjVexlaz6NK"
      },
      "outputs": [],
      "source": [
        "question = \"다음 중 Python의 약속어(키워드)가 아닌 것은 무엇인가요?\"\n",
        "choices = [\"def\", \"class\", \"lambda\", \"define\"]\n",
        "real_answer = 4\n"
      ]
    },
    {
      "cell_type": "code",
      "source": [
        "j = 1\n",
        "print(question)\n",
        ""
      ],
      "metadata": {
        "colab": {
          "base_uri": "https://localhost:8080/"
        },
        "id": "hPEC73VuDDT3",
        "outputId": "6fb71a49-5a51-494b-d478-7f97522a3980"
      },
      "execution_count": 40,
      "outputs": [
        {
          "output_type": "stream",
          "name": "stdout",
          "text": [
            "다음 중 Python의 약속어(키워드)가 아닌 것은 무엇인가요?\n"
          ]
        }
      ]
    },
    {
      "cell_type": "code",
      "source": [
        "for i in choices :\n",
        " print(f'{j}. {i}')\n",
        " j = j + 1\n",
        ""
      ],
      "metadata": {
        "colab": {
          "base_uri": "https://localhost:8080/"
        },
        "id": "dA4hvZV8Ph-z",
        "outputId": "89bf19ba-7e5f-4ff8-a778-ce495eac01e3"
      },
      "execution_count": 41,
      "outputs": [
        {
          "output_type": "stream",
          "name": "stdout",
          "text": [
            "1. def\n",
            "2. class\n",
            "3. lambda\n",
            "4. define\n"
          ]
        }
      ]
    },
    {
      "cell_type": "code",
      "source": [
        "input_first = input(\"사용자 입력 : \")\n",
        "input_first = int(input_first)\n"
      ],
      "metadata": {
        "colab": {
          "base_uri": "https://localhost:8080/"
        },
        "id": "q9ZLL1K-Pj_1",
        "outputId": "7218c5c9-bc92-4a87-dfe9-6ade49ec88f2"
      },
      "execution_count": 44,
      "outputs": [
        {
          "name": "stdout",
          "output_type": "stream",
          "text": [
            "사용자 입력 : 4\n"
          ]
        }
      ]
    },
    {
      "cell_type": "code",
      "source": [
        "if input_first != real_answer :\n",
        " print('오답입니다.')\n",
        "else :\n",
        " print('정답입니다!')"
      ],
      "metadata": {
        "colab": {
          "base_uri": "https://localhost:8080/"
        },
        "id": "KjTlvYJePmKj",
        "outputId": "a8035110-e085-49f6-858b-f9a7cdb46d54"
      },
      "execution_count": 45,
      "outputs": [
        {
          "output_type": "stream",
          "name": "stdout",
          "text": [
            "정답입니다!\n"
          ]
        }
      ]
    },
    {
      "cell_type": "code",
      "source": [],
      "metadata": {
        "id": "rgzW7fT3Pnqd"
      },
      "execution_count": null,
      "outputs": []
    }
  ]
}