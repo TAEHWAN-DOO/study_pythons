{
  "nbformat": 4,
  "nbformat_minor": 0,
  "metadata": {
    "colab": {
      "provenance": [],
      "authorship_tag": "ABX9TyOxK/ahZ+2XwheYivJHhk/l",
      "include_colab_link": true
    },
    "kernelspec": {
      "name": "python3",
      "display_name": "Python 3"
    },
    "language_info": {
      "name": "python"
    }
  },
  "cells": [
    {
      "cell_type": "markdown",
      "metadata": {
        "id": "view-in-github",
        "colab_type": "text"
      },
      "source": [
        "<a href=\"https://colab.research.google.com/github/TAEHWAN-DOO/study_pythons/blob/main/codes/quests/90_fourbasic_operations_functions2.ipynb\" target=\"_parent\"><img src=\"https://colab.research.google.com/assets/colab-badge.svg\" alt=\"Open In Colab\"/></a>"
      ]
    },
    {
      "cell_type": "markdown",
      "source": [
        "### 함수활용 사칙연산 2"
      ],
      "metadata": {
        "id": "432cgyXDx-pP"
      }
    },
    {
      "cell_type": "code",
      "execution_count": 20,
      "metadata": {
        "colab": {
          "base_uri": "https://localhost:8080/"
        },
        "id": "1rFxVBlbx1rP",
        "outputId": "1bdcac2c-ff37-4a6d-a35a-496b8840c20e"
      },
      "outputs": [
        {
          "output_type": "stream",
          "name": "stdout",
          "text": [
            "4 + 5 = 9\n"
          ]
        }
      ],
      "source": [
        "def add(first, second) :   # 덧셈 함수\n",
        "  result_add = first + second\n",
        "  print(f'{first} + {second} = {first + second}')\n",
        "\n",
        "add(4, 5)"
      ]
    },
    {
      "cell_type": "code",
      "source": [
        "def subtract(first, second) :   # 뺄셈 함수\n",
        "  result_subtract = first - second\n",
        "  print(f'{first} - {second} = {first - second}')\n",
        "\n",
        "subtract(4, 5)"
      ],
      "metadata": {
        "colab": {
          "base_uri": "https://localhost:8080/"
        },
        "id": "okTFWmJhzhp5",
        "outputId": "a3888501-bfd1-47c9-cd6f-d0e54e8ee114"
      },
      "execution_count": 21,
      "outputs": [
        {
          "output_type": "stream",
          "name": "stdout",
          "text": [
            "4 - 5 = -1\n"
          ]
        }
      ]
    },
    {
      "cell_type": "code",
      "source": [
        "def multiply(first, second) :   # 곱셈 함수\n",
        "  result_multiply = first * second\n",
        "  print(f'{first} * {second} = {first * second}')\n",
        "\n",
        "multiply(4, 5)"
      ],
      "metadata": {
        "colab": {
          "base_uri": "https://localhost:8080/"
        },
        "id": "S6gGzvE51it0",
        "outputId": "e934b946-a64a-4a56-c4b5-24fd72c42313"
      },
      "execution_count": 22,
      "outputs": [
        {
          "output_type": "stream",
          "name": "stdout",
          "text": [
            "4 * 5 = 20\n"
          ]
        }
      ]
    },
    {
      "cell_type": "code",
      "source": [
        "def division(first, second) :   # 나눗셈 함수\n",
        "  result_division = first / second\n",
        "  print(f'{first} / {second} = {first / second}')\n",
        "\n",
        "division(4, 5)"
      ],
      "metadata": {
        "colab": {
          "base_uri": "https://localhost:8080/"
        },
        "id": "Xf_4EX4e2_tU",
        "outputId": "13984363-120b-4d10-d021-c4294291cb81"
      },
      "execution_count": 23,
      "outputs": [
        {
          "output_type": "stream",
          "name": "stdout",
          "text": [
            "4 / 5 = 0.8\n"
          ]
        }
      ]
    },
    {
      "cell_type": "code",
      "source": [],
      "metadata": {
        "id": "al-6Kb3K3-fy"
      },
      "execution_count": 23,
      "outputs": []
    }
  ]
}