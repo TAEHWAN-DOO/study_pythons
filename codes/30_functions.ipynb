{
  "nbformat": 4,
  "nbformat_minor": 0,
  "metadata": {
    "colab": {
      "provenance": [],
      "authorship_tag": "ABX9TyPc5Sij/eecoab6Ts01tadp",
      "include_colab_link": true
    },
    "kernelspec": {
      "name": "python3",
      "display_name": "Python 3"
    },
    "language_info": {
      "name": "python"
    }
  },
  "cells": [
    {
      "cell_type": "markdown",
      "metadata": {
        "id": "view-in-github",
        "colab_type": "text"
      },
      "source": [
        "<a href=\"https://colab.research.google.com/github/TAEHWAN-DOO/study_pythons/blob/main/codes/30_functions.ipynb\" target=\"_parent\"><img src=\"https://colab.research.google.com/assets/colab-badge.svg\" alt=\"Open In Colab\"/></a>"
      ]
    },
    {
      "cell_type": "markdown",
      "source": [
        "## function\n",
        "- 1원칙 : 기본 구성\n",
        "```\n",
        "def function_name() :\n",
        "  execute codes (변수 + 약속어)\n",
        "```\n",
        "- 2원칙 : params와 return\n",
        "```\n",
        "def function_name(param_first, ...) :\n",
        "  execute codes (변수 + 약속어)\n",
        "  return result\n",
        "```"
      ],
      "metadata": {
        "id": "xLnikNVv1coS"
      }
    },
    {
      "cell_type": "markdown",
      "source": [
        "### 기존 코드를 함수화"
      ],
      "metadata": {
        "id": "sj9z9bVh2G1j"
      }
    },
    {
      "cell_type": "code",
      "execution_count": null,
      "metadata": {
        "colab": {
          "base_uri": "https://localhost:8080/"
        },
        "id": "tQzwkue01TBX",
        "outputId": "2f66c4ec-477c-48a4-eddb-7a330b3013ba"
      },
      "outputs": [
        {
          "output_type": "stream",
          "name": "stdout",
          "text": [
            "9 / <class 'int'>= 4 + 5\n"
          ]
        }
      ],
      "source": [
        "input_first_value = 4\n",
        "input_second_value = 5\n",
        "result_plus = input_first_value + input_second_value\n",
        "print(f'{result_plus} / {type(result_plus)}= {input_first_value} + {input_second_value}')"
      ]
    },
    {
      "cell_type": "markdown",
      "source": [
        "### 1원칙 적용"
      ],
      "metadata": {
        "id": "lehBgIJ6BZMI"
      }
    },
    {
      "cell_type": "code",
      "source": [
        "def add() :\n",
        " input_first_value = 4\n",
        " input_second_value = 5\n",
        " result_plus = input_first_value + input_second_value\n",
        " print(f'{result_plus} / {type(result_plus)}= {input_first_value} + {input_second_value}')"
      ],
      "metadata": {
        "id": "JfVRb1Zf2015"
      },
      "execution_count": null,
      "outputs": []
    },
    {
      "cell_type": "code",
      "source": [
        "add()"
      ],
      "metadata": {
        "colab": {
          "base_uri": "https://localhost:8080/"
        },
        "id": "XIIUEOOl3vYa",
        "outputId": "633a44a9-6dca-4744-88b8-429a5c6239a0"
      },
      "execution_count": null,
      "outputs": [
        {
          "output_type": "stream",
          "name": "stdout",
          "text": [
            "9 / <class 'int'>= 4 + 5\n"
          ]
        }
      ]
    },
    {
      "cell_type": "markdown",
      "source": [
        "### 2원칙 적용"
      ],
      "metadata": {
        "id": "nK4DXNjqB7hQ"
      }
    },
    {
      "cell_type": "markdown",
      "source": [
        "#### parameters"
      ],
      "metadata": {
        "id": "blc528qO0Txx"
      }
    },
    {
      "cell_type": "code",
      "source": [
        "def add(input_first_value, input_second_value) :    # call by values\n",
        " result_plus = input_first_value + input_second_value\n",
        " print(f'{result_plus} / {type(result_plus)}= {input_first_value} + {input_second_value}')"
      ],
      "metadata": {
        "id": "51KiGN5T4kZR"
      },
      "execution_count": null,
      "outputs": []
    },
    {
      "cell_type": "code",
      "source": [
        "# add() 호출\n",
        "add(4, 5)"
      ],
      "metadata": {
        "colab": {
          "base_uri": "https://localhost:8080/"
        },
        "id": "r5pE6tUXCkks",
        "outputId": "811f8197-66fa-4dac-d6e7-00e5bc931783"
      },
      "execution_count": null,
      "outputs": [
        {
          "output_type": "stream",
          "name": "stdout",
          "text": [
            "9 / <class 'int'>= 4 + 5\n"
          ]
        }
      ]
    },
    {
      "cell_type": "code",
      "source": [
        "add(8, 9)"
      ],
      "metadata": {
        "colab": {
          "base_uri": "https://localhost:8080/"
        },
        "id": "vQ2o6_R8Cyrc",
        "outputId": "6f3afed3-8874-4859-a353-a4dcc9f364e7"
      },
      "execution_count": null,
      "outputs": [
        {
          "output_type": "stream",
          "name": "stdout",
          "text": [
            "17 / <class 'int'>= 8 + 9\n"
          ]
        }
      ]
    },
    {
      "cell_type": "code",
      "source": [
        "first_input = input('first : ')\n",
        "second_input = input('second : ')"
      ],
      "metadata": {
        "colab": {
          "base_uri": "https://localhost:8080/"
        },
        "id": "-rB1Svj0DGW8",
        "outputId": "33c77db2-8180-440a-a2b6-eccd91ce2661"
      },
      "execution_count": null,
      "outputs": [
        {
          "name": "stdout",
          "output_type": "stream",
          "text": [
            "first : 7\n",
            "second : 8\n"
          ]
        }
      ]
    },
    {
      "cell_type": "code",
      "source": [
        "print(f'first_input : {first_input}, second_input : {second_input}')"
      ],
      "metadata": {
        "colab": {
          "base_uri": "https://localhost:8080/"
        },
        "id": "IfDx9ODhDiOQ",
        "outputId": "fe2cb061-3903-479a-8783-8842b5393033"
      },
      "execution_count": null,
      "outputs": [
        {
          "output_type": "stream",
          "name": "stdout",
          "text": [
            "first_input : 7, second_input : 8\n"
          ]
        }
      ]
    },
    {
      "cell_type": "code",
      "source": [
        "first_input = int(first_input)\n",
        "second_input = int(second_input)"
      ],
      "metadata": {
        "id": "qc1gIACGEEtn"
      },
      "execution_count": null,
      "outputs": []
    },
    {
      "cell_type": "code",
      "source": [
        "add(first_input, second_input)  # 재사용성"
      ],
      "metadata": {
        "colab": {
          "base_uri": "https://localhost:8080/"
        },
        "id": "HJWI-tl4DyM3",
        "outputId": "37634796-4a5c-4bb8-bb2f-123b888ef402"
      },
      "execution_count": null,
      "outputs": [
        {
          "output_type": "stream",
          "name": "stdout",
          "text": [
            "15 / <class 'int'>= 7 + 8\n"
          ]
        }
      ]
    },
    {
      "cell_type": "markdown",
      "source": [
        "#### return\n",
        "- 함수 분할 기준 : 마이크로(세부) 업무 단위, 하나의 작업만 수행"
      ],
      "metadata": {
        "id": "m5zW3s4z0Zvg"
      }
    },
    {
      "cell_type": "code",
      "source": [
        "def add(input_first_value, input_second_value) :    # call by values\n",
        " result_plus = input_first_value + input_second_value\n",
        "#  print(f'{result_plus} / {type(result_plus)}= {input_first_value} + {input_second_value}')\n",
        " return result_plus"
      ],
      "metadata": {
        "id": "HqQuHw-8EWUw"
      },
      "execution_count": 11,
      "outputs": []
    },
    {
      "cell_type": "code",
      "source": [
        "add(4, 6)"
      ],
      "metadata": {
        "colab": {
          "base_uri": "https://localhost:8080/"
        },
        "id": "N42-QttU2Q8x",
        "outputId": "65033eb9-f3c6-4287-cd26-bec547e8f5c8"
      },
      "execution_count": 12,
      "outputs": [
        {
          "output_type": "execute_result",
          "data": {
            "text/plain": [
              "10"
            ]
          },
          "metadata": {},
          "execution_count": 12
        }
      ]
    },
    {
      "cell_type": "code",
      "source": [
        " # '=' 좌측 변수에는 동일한 값이 들어간다.\n",
        "result = 10\n",
        "result_first = result\n",
        "first = 4\n",
        "second = 6\n",
        "result_return = add(first, second)"
      ],
      "metadata": {
        "id": "1btTm-JH2XtW"
      },
      "execution_count": 14,
      "outputs": []
    },
    {
      "cell_type": "code",
      "source": [
        "print(f'{result_return} / {type(result_return)}= {first} + {second}')"
      ],
      "metadata": {
        "colab": {
          "base_uri": "https://localhost:8080/"
        },
        "id": "p6Au20LR7IrF",
        "outputId": "a99df9cf-3c0e-4bc7-e087-2445eafda02f"
      },
      "execution_count": 15,
      "outputs": [
        {
          "output_type": "stream",
          "name": "stdout",
          "text": [
            "10 / <class 'int'>= 4 + 6\n"
          ]
        }
      ]
    },
    {
      "cell_type": "code",
      "source": [
        "?print"
      ],
      "metadata": {
        "id": "rnoKWh8L8wyN"
      },
      "execution_count": 16,
      "outputs": []
    },
    {
      "cell_type": "code",
      "source": [],
      "metadata": {
        "id": "zXDgtEqfKcQE"
      },
      "execution_count": null,
      "outputs": []
    }
  ]
}